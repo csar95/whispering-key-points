{
 "cells": [
  {
   "cell_type": "markdown",
   "metadata": {
    "colab_type": "text",
    "id": "view-in-github"
   },
   "source": [
    "<a href=\"https://colab.research.google.com/github/csar95/hugging-face-course/blob/main/workbook.ipynb\" target=\"_parent\"><img src=\"https://colab.research.google.com/assets/colab-badge.svg\" alt=\"Open In Colab\"/></a>"
   ]
  },
  {
   "cell_type": "code",
   "execution_count": 1,
   "metadata": {
    "id": "vpOp0PuzBG9n",
    "tags": []
   },
   "outputs": [],
   "source": [
    "import os\n",
    "import openai\n",
    "from pytube import YouTube"
   ]
  },
  {
   "cell_type": "code",
   "execution_count": 2,
   "metadata": {
    "tags": []
   },
   "outputs": [],
   "source": [
    "# Load your API key from an environment variable or secret management service\n",
    "openai.api_key = os.getenv(\"OPENAI_API_KEY\")"
   ]
  },
  {
   "cell_type": "code",
   "execution_count": 3,
   "metadata": {
    "tags": []
   },
   "outputs": [],
   "source": [
    "# Ask user for the YouTube video URL\n",
    "yt_url = \"https://www.youtube.com/watch?v=VRm2UMsFVz0&list=PLbUIzNzCKD8CUVjPwFAUoNDc0souCNHLs&index=1\"\n",
    "\n",
    "# Create a YouTube object from the URL\n",
    "yt = YouTube(yt_url)"
   ]
  },
  {
   "cell_type": "code",
   "execution_count": 4,
   "metadata": {},
   "outputs": [],
   "source": [
    "# Get the audio stream\n",
    "audio_stream = yt.streams.filter(only_audio=True).first()"
   ]
  },
  {
   "cell_type": "code",
   "execution_count": 5,
   "metadata": {
    "tags": []
   },
   "outputs": [
    {
     "data": {
      "text/plain": [
       "'/Users/csr95/Desktop/Mis_Documentos/Code_Python/whispering-key-points/data/ACID Transactions.mp3'"
      ]
     },
     "execution_count": 5,
     "metadata": {},
     "output_type": "execute_result"
    }
   ],
   "source": [
    "# Download the audio stream\n",
    "output_path = \"data\"\n",
    "filename = f\"{yt.title}.mp3\"\n",
    "audio_stream.download(output_path=output_path, filename=filename)"
   ]
  },
  {
   "cell_type": "code",
   "execution_count": 6,
   "metadata": {},
   "outputs": [],
   "source": [
    "language = 'en'"
   ]
  },
  {
   "cell_type": "code",
   "execution_count": 7,
   "metadata": {},
   "outputs": [
    {
     "name": "stdout",
     "output_type": "stream",
     "text": [
      "CPU times: user 21.7 ms, sys: 10.6 ms, total: 32.4 ms\n",
      "Wall time: 16.7 s\n"
     ]
    }
   ],
   "source": [
    "%%time\n",
    "\n",
    "with open(f\"{output_path}/{filename}\", \"rb\") as audio_file:\n",
    "    transcript = openai.Audio.transcribe(\"whisper-1\", audio_file, language)"
   ]
  },
  {
   "cell_type": "code",
   "execution_count": 9,
   "metadata": {
    "tags": []
   },
   "outputs": [
    {
     "data": {
      "text/plain": [
       "\"Hello, my name is Niklas and today we're going to talk about transactions in a relational database management system. More specifically, we're going to talk about the ACID acronym, what it stands for and what it actually means. So fundamentally, a transaction is a unit of work executed to retrieve, insert, remove and or update data. And this unit of work typically consists of running one or more statements or queries against some kind of database. In a relational database management system, transactions come with specific properties that serve as guarantees of sorts. So we can rely on the fact that all transactions in a relational database management system will be atomic, they will be consistent, they will be isolated and they will be durable or ACID for short. It's worth mentioning that while all relational database management systems have these guarantees, not all database management systems do so. So some have base properties instead of ACID, but we won't go into this in this video. A common example used to illustrate a transaction is a bank transfer. So in this use case, we want to transfer money from one bank account into another. And for this example, we're going to assume that all the bank account data is being persisted in a single database. And so in order to do this, we'll first need to make sure that there are sufficient funds on the payer's account. Then we need to subtract that amount from the payer's account, add it to the receiver's account. And finally, we want to mark the transaction as successful. And we can do this by executing four queries against the database. So first, we're going to make a select to check the funds, followed by three update statements for the rest of the logic subtraction, adding and finally marking the transfer as successful. How to group the queries into different transactions is up to the application programmer. So we could perform each query in its own transaction, but for reasons that we'll soon see, this is probably a bad idea in our example. And it would probably make more sense to think of all the four queries as being part of one logical transaction and then implement the application logic accordingly. So let's go back to the ACID properties in the context of this example, starting with the A for atomic. Simply put, atomicity in the context of a transaction means that either all the queries and operations are run, or none of them are. This guarantees that if there is a failure at any point during the transaction, none of the statements are actually committed. Going back to our example, it's evident why this guarantee by the database management system is so useful for us. Imagine that we run into an error during the transaction. The first two queries have run successfully here, and the money has been deducted from the payer's account. However, we have failed to add the money to the receiver's account or mark the transfer as successful. So if the successful queries were actually to be committed to the database, regardless, we would be in a worrying situation. The status of the transfer would not change, and it would appear the money had just vanished into thin air. We have the guarantee of atomicity of transactions, however. We can indeed group all the statements under one transaction and rely on the database management system to ensure that if anything goes wrong during the transaction, none of the changes are committed. So in this case, the money wouldn't be taken from the payer's account. Next, we have C for consistency. By consistency, we mean that after a transaction is performed, all of the data is still in a valid state. In the context of our example, we could set a constraint, for example, on the account balance field to make sure that it never goes below zero. So after that, we could rely on the database management system not to commit a transaction that would leave the database in a state with negative numbers in the account balance field. Or in other words, transfer money that isn't there. For the third property, I for isolated, means that the statements are executed in a seemingly consecutive or sequential way. So at the highest isolation level, as far as the application programmer knows, each transaction is run after the previous one is fully completed. So in practice, database management system might execute transactions concurrently, but they do make the guarantee that the result is the same as it would be in a more consecutive approach. Lowering the isolation level means that transactions which are being run concurrently by the database management system might actually affect each other and see each other at different steps of the way. There is always a trade-off between the guarantees of a sequential approach at a high isolation level compared to the performance gains that we get if we lower the isolation level, then we're going to lose some of the guarantees of isolation. And finally, the last property of an ACID transaction is durability. Durability means that once commitment has been acknowledged by the database management system, we have a guarantee that the changes have been committed permanently and will persist in the event of a power outage or any other catastrophic failure. In practice, this means that changes have always been flushed from any potential buffers in memory and have been written to disk when the application is informed that the transaction has been committed. And that was my quick run-through of ACID transactions. I hope the video was of some use to you and thanks for listening. Until next time!\""
      ]
     },
     "execution_count": 9,
     "metadata": {},
     "output_type": "execute_result"
    }
   ],
   "source": [
    "transcript.text"
   ]
  },
  {
   "cell_type": "code",
   "execution_count": null,
   "metadata": {},
   "outputs": [],
   "source": []
  }
 ],
 "metadata": {
  "accelerator": "GPU",
  "colab": {
   "authorship_tag": "ABX9TyOSFEFO/+R9Fr8eaFsqIix7",
   "include_colab_link": true,
   "provenance": [],
   "toc_visible": true
  },
  "gpuClass": "standard",
  "kernelspec": {
   "display_name": "Python 3 (ipykernel)",
   "language": "python",
   "name": "python3"
  },
  "language_info": {
   "codemirror_mode": {
    "name": "ipython",
    "version": 3
   },
   "file_extension": ".py",
   "mimetype": "text/x-python",
   "name": "python",
   "nbconvert_exporter": "python",
   "pygments_lexer": "ipython3",
   "version": "3.9.16"
  }
 },
 "nbformat": 4,
 "nbformat_minor": 4
}
